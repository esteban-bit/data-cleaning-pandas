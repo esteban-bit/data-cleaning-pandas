{
 "cells": [
  {
   "cell_type": "code",
   "execution_count": 2,
   "id": "1f076266",
   "metadata": {},
   "outputs": [],
   "source": [
    "def filter_date(x):\n",
    "    value = str(x)\n",
    "    pattern = r\"\\d{4}\\.\\d{2}\\.\\d{2}\"\n",
    "    match = re.search(pattern, value)\n",
    "    if match:\n",
    "        clean_date = match.group()\n",
    "        return clean_date\n",
    "    else:\n",
    "        return np.nan\n",
    "    \n",
    "    \n",
    "\n",
    "def extract_correct_date(value):\n",
    "    value = str(value)\n",
    "    \n",
    "    # Expresión regular para buscar una fecha en formato DD-MMM-YYYY\n",
    "    pattern = r'(\\d{2})-(\\w{3})-(\\d{4})'\n",
    "    match = re.search(pattern, value)\n",
    "    \n",
    "    if match:  # Si se encuentra una fecha en formato DD-MMM-YYYY\n",
    "        day = match.group(1)\n",
    "        month = match.group(2)\n",
    "        year = match.group(3)\n",
    "\n",
    "        # Mapeo de los meses en formato MMM a números\n",
    "        month_mapping = {\n",
    "            'Jan': '01',\n",
    "            'Feb': '02',\n",
    "            'Mar': '03',\n",
    "            'Apr': '04',\n",
    "            'May': '05',\n",
    "            'Jun': '06',\n",
    "            'Jul': '07',\n",
    "            'Aug': '08',\n",
    "            'Sep': '09',\n",
    "            'Oct': '10',\n",
    "            'Nov': '11',\n",
    "            'Dec': '12'\n",
    "        }\n",
    "\n",
    "        if month in month_mapping:\n",
    "            month = month_mapping[month]\n",
    "        else:\n",
    "            month = '00'\n",
    "        \n",
    "        return f\"{day}-{month}-{year}\"\n",
    "    \n",
    "    else:  # Si no se encuentra una fecha en formato DD-MMM-YYYY, manejar otros casos\n",
    "        # Expresión regular para buscar un año en formato YYYY\n",
    "        pattern = r'(\\d{4})'\n",
    "        match = re.search(pattern, value)\n",
    "        \n",
    "        if match:  # Si se encuentra un año en formato YYYY\n",
    "            year = match.group(1)\n",
    "            return f\"00-00-{year}\"\n",
    "    \n",
    "    return np.nan  # Si no se encuentra ninguna fecha válida, retornar NaN    \n"
   ]
  },
  {
   "cell_type": "code",
   "execution_count": null,
   "id": "3ceeb64a",
   "metadata": {},
   "outputs": [],
   "source": []
  }
 ],
 "metadata": {
  "kernelspec": {
   "display_name": "Python 3 (ipykernel)",
   "language": "python",
   "name": "python3"
  },
  "language_info": {
   "codemirror_mode": {
    "name": "ipython",
    "version": 3
   },
   "file_extension": ".py",
   "mimetype": "text/x-python",
   "name": "python",
   "nbconvert_exporter": "python",
   "pygments_lexer": "ipython3",
   "version": "3.10.9"
  }
 },
 "nbformat": 4,
 "nbformat_minor": 5
}
