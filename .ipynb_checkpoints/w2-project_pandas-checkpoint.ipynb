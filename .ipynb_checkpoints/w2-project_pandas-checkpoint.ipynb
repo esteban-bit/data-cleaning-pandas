{
 "cells": [
  {
   "cell_type": "markdown",
   "id": "47419aca",
   "metadata": {},
   "source": [
    "Limpieza de datos "
   ]
  },
  {
   "cell_type": "markdown",
   "id": "69a9c016",
   "metadata": {},
   "source": [
    "Cada variable forma una columna.\n",
    "Cada observación forma una fila.\n",
    "Cada tipo de unidad observacional forma una tabla.\n",
    "\n",
    "Valores nulos.\n",
    "Datos inconsistentes\n",
    "Valores atípicos (Outliers)"
   ]
  },
  {
   "cell_type": "markdown",
   "id": "0cb8a0c0",
   "metadata": {},
   "source": [
    "1- Importamos librerias"
   ]
  },
  {
   "cell_type": "code",
   "execution_count": 1,
   "id": "1df022b1",
   "metadata": {},
   "outputs": [
    {
     "name": "stdout",
     "output_type": "stream",
     "text": [
      "Requirement already satisfied: ipython in /Volumes/Esteban/APLICACIONES/anaconda3/lib/python3.10/site-packages (8.10.0)\n",
      "Requirement already satisfied: matplotlib-inline in /Volumes/Esteban/APLICACIONES/anaconda3/lib/python3.10/site-packages (from ipython) (0.1.6)\n",
      "Requirement already satisfied: prompt-toolkit<3.1.0,>=3.0.30 in /Volumes/Esteban/APLICACIONES/anaconda3/lib/python3.10/site-packages (from ipython) (3.0.36)\n",
      "Requirement already satisfied: decorator in /Volumes/Esteban/APLICACIONES/anaconda3/lib/python3.10/site-packages (from ipython) (5.1.1)\n",
      "Requirement already satisfied: pickleshare in /Volumes/Esteban/APLICACIONES/anaconda3/lib/python3.10/site-packages (from ipython) (0.7.5)\n",
      "Requirement already satisfied: pygments>=2.4.0 in /Volumes/Esteban/APLICACIONES/anaconda3/lib/python3.10/site-packages (from ipython) (2.11.2)\n",
      "Requirement already satisfied: appnope in /Volumes/Esteban/APLICACIONES/anaconda3/lib/python3.10/site-packages (from ipython) (0.1.2)\n",
      "Requirement already satisfied: backcall in /Volumes/Esteban/APLICACIONES/anaconda3/lib/python3.10/site-packages (from ipython) (0.2.0)\n",
      "Requirement already satisfied: stack-data in /Volumes/Esteban/APLICACIONES/anaconda3/lib/python3.10/site-packages (from ipython) (0.2.0)\n",
      "Requirement already satisfied: pexpect>4.3 in /Volumes/Esteban/APLICACIONES/anaconda3/lib/python3.10/site-packages (from ipython) (4.8.0)\n",
      "Requirement already satisfied: traitlets>=5 in /Volumes/Esteban/APLICACIONES/anaconda3/lib/python3.10/site-packages (from ipython) (5.7.1)\n",
      "Requirement already satisfied: jedi>=0.16 in /Volumes/Esteban/APLICACIONES/anaconda3/lib/python3.10/site-packages (from ipython) (0.18.1)\n",
      "Requirement already satisfied: parso<0.9.0,>=0.8.0 in /Volumes/Esteban/APLICACIONES/anaconda3/lib/python3.10/site-packages (from jedi>=0.16->ipython) (0.8.3)\n",
      "Requirement already satisfied: ptyprocess>=0.5 in /Volumes/Esteban/APLICACIONES/anaconda3/lib/python3.10/site-packages (from pexpect>4.3->ipython) (0.7.0)\n",
      "Requirement already satisfied: wcwidth in /Volumes/Esteban/APLICACIONES/anaconda3/lib/python3.10/site-packages (from prompt-toolkit<3.1.0,>=3.0.30->ipython) (0.2.5)\n",
      "Requirement already satisfied: executing in /Volumes/Esteban/APLICACIONES/anaconda3/lib/python3.10/site-packages (from stack-data->ipython) (0.8.3)\n",
      "Requirement already satisfied: pure-eval in /Volumes/Esteban/APLICACIONES/anaconda3/lib/python3.10/site-packages (from stack-data->ipython) (0.2.2)\n",
      "Requirement already satisfied: asttokens in /Volumes/Esteban/APLICACIONES/anaconda3/lib/python3.10/site-packages (from stack-data->ipython) (2.0.5)\n",
      "Requirement already satisfied: six in /Volumes/Esteban/APLICACIONES/anaconda3/lib/python3.10/site-packages (from asttokens->stack-data->ipython) (1.16.0)\n",
      "Note: you may need to restart the kernel to use updated packages.\n",
      "Requirement already satisfied: seaborn in /Volumes/Esteban/APLICACIONES/anaconda3/lib/python3.10/site-packages (0.12.2)\n",
      "Requirement already satisfied: matplotlib!=3.6.1,>=3.1 in /Volumes/Esteban/APLICACIONES/anaconda3/lib/python3.10/site-packages (from seaborn) (3.7.0)\n",
      "Requirement already satisfied: pandas>=0.25 in /Volumes/Esteban/APLICACIONES/anaconda3/lib/python3.10/site-packages (from seaborn) (1.5.3)\n",
      "Requirement already satisfied: numpy!=1.24.0,>=1.17 in /Volumes/Esteban/APLICACIONES/anaconda3/lib/python3.10/site-packages (from seaborn) (1.23.5)\n",
      "Requirement already satisfied: kiwisolver>=1.0.1 in /Volumes/Esteban/APLICACIONES/anaconda3/lib/python3.10/site-packages (from matplotlib!=3.6.1,>=3.1->seaborn) (1.4.4)\n",
      "Requirement already satisfied: pillow>=6.2.0 in /Volumes/Esteban/APLICACIONES/anaconda3/lib/python3.10/site-packages (from matplotlib!=3.6.1,>=3.1->seaborn) (9.4.0)\n",
      "Requirement already satisfied: pyparsing>=2.3.1 in /Volumes/Esteban/APLICACIONES/anaconda3/lib/python3.10/site-packages (from matplotlib!=3.6.1,>=3.1->seaborn) (3.0.9)\n",
      "Requirement already satisfied: fonttools>=4.22.0 in /Volumes/Esteban/APLICACIONES/anaconda3/lib/python3.10/site-packages (from matplotlib!=3.6.1,>=3.1->seaborn) (4.25.0)\n",
      "Requirement already satisfied: packaging>=20.0 in /Volumes/Esteban/APLICACIONES/anaconda3/lib/python3.10/site-packages (from matplotlib!=3.6.1,>=3.1->seaborn) (22.0)\n",
      "Requirement already satisfied: cycler>=0.10 in /Volumes/Esteban/APLICACIONES/anaconda3/lib/python3.10/site-packages (from matplotlib!=3.6.1,>=3.1->seaborn) (0.11.0)\n",
      "Requirement already satisfied: contourpy>=1.0.1 in /Volumes/Esteban/APLICACIONES/anaconda3/lib/python3.10/site-packages (from matplotlib!=3.6.1,>=3.1->seaborn) (1.0.5)\n",
      "Requirement already satisfied: python-dateutil>=2.7 in /Volumes/Esteban/APLICACIONES/anaconda3/lib/python3.10/site-packages (from matplotlib!=3.6.1,>=3.1->seaborn) (2.8.2)\n",
      "Requirement already satisfied: pytz>=2020.1 in /Volumes/Esteban/APLICACIONES/anaconda3/lib/python3.10/site-packages (from pandas>=0.25->seaborn) (2022.7)\n",
      "Requirement already satisfied: six>=1.5 in /Volumes/Esteban/APLICACIONES/anaconda3/lib/python3.10/site-packages (from python-dateutil>=2.7->matplotlib!=3.6.1,>=3.1->seaborn) (1.16.0)\n",
      "Note: you may need to restart the kernel to use updated packages.\n"
     ]
    }
   ],
   "source": [
    "%pip install ipython\n",
    "%pip install seaborn"
   ]
  },
  {
   "cell_type": "code",
   "execution_count": 3,
   "id": "c7cb69bc",
   "metadata": {},
   "outputs": [],
   "source": [
    "import pandas as pd\n",
    "pd.set_option('display.max_columns', None)\n",
    "\n",
    "import numpy as np\n",
    "\n",
    "# para pintar\n",
    "import pylab as plt    # import matplotlib.pyplot as plt\n",
    "import seaborn as sns\n",
    "\n",
    "# para que salga el grafico\n",
    "%matplotlib inline"
   ]
  },
  {
   "cell_type": "code",
   "execution_count": 2,
   "id": "1fb2fc1c",
   "metadata": {},
   "outputs": [
    {
     "ename": "NameError",
     "evalue": "name 'pd' is not defined",
     "output_type": "error",
     "traceback": [
      "\u001b[0;31m---------------------------------------------------------------------------\u001b[0m",
      "\u001b[0;31mNameError\u001b[0m                                 Traceback (most recent call last)",
      "Cell \u001b[0;32mIn[2], line 3\u001b[0m\n\u001b[1;32m      1\u001b[0m \u001b[38;5;66;03m# Cargamos los datos\u001b[39;00m\n\u001b[0;32m----> 3\u001b[0m tiburon\u001b[38;5;241m=\u001b[39m \u001b[43mpd\u001b[49m\u001b[38;5;241m.\u001b[39mread_csv(\u001b[38;5;124m'\u001b[39m\u001b[38;5;124m../data/attacks.csv\u001b[39m\u001b[38;5;124m'\u001b[39m, \u001b[38;5;124m'\u001b[39m\u001b[38;5;124mlatin-1\u001b[39m\u001b[38;5;124m'\u001b[39m)\n\u001b[1;32m      5\u001b[0m tiburon\u001b[38;5;241m=\u001b[39mtiburon\u001b[38;5;241m.\u001b[39mcopy()\n\u001b[1;32m      7\u001b[0m tiburon\u001b[38;5;241m.\u001b[39mhead()\n",
      "\u001b[0;31mNameError\u001b[0m: name 'pd' is not defined"
     ]
    }
   ],
   "source": [
    "# Cargamos los datos\n",
    "\n",
    "tiburon= pd.read_csv('../data/attacks.csv', 'latin-1')\n",
    "\n",
    "tiburon=tiburon.copy()\n",
    "\n",
    "tiburon.head()"
   ]
  },
  {
   "cell_type": "code",
   "execution_count": null,
   "id": "05ad43c6",
   "metadata": {},
   "outputs": [],
   "source": []
  }
 ],
 "metadata": {
  "kernelspec": {
   "display_name": "Python 3 (ipykernel)",
   "language": "python",
   "name": "python3"
  },
  "language_info": {
   "codemirror_mode": {
    "name": "ipython",
    "version": 3
   },
   "file_extension": ".py",
   "mimetype": "text/x-python",
   "name": "python",
   "nbconvert_exporter": "python",
   "pygments_lexer": "ipython3",
   "version": "3.10.9"
  }
 },
 "nbformat": 4,
 "nbformat_minor": 5
}
